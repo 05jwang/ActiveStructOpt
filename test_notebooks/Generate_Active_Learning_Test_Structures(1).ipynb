{
  "nbformat": 4,
  "nbformat_minor": 0,
  "metadata": {
    "colab": {
      "provenance": []
    },
    "kernelspec": {
      "name": "python3",
      "display_name": "Python 3"
    },
    "language_info": {
      "name": "python"
    }
  },
  "cells": [
    {
      "cell_type": "code",
      "source": [
        "!pip install --quiet --progress-bar off pymatgen\n",
        "!pip install --quiet --progress-bar off periodictable"
      ],
      "metadata": {
        "id": "q0eTieozBxOM",
        "colab": {
          "base_uri": "https://localhost:8080/"
        },
        "outputId": "d26d01ba-dbc1-401c-b036-d362c1c8f567"
      },
      "execution_count": 1,
      "outputs": [
        {
          "output_type": "stream",
          "name": "stdout",
          "text": [
            "\u001b[31mERROR: pip's dependency resolver does not currently take into account all the packages that are installed. This behaviour is the source of the following dependency conflicts.\n",
            "lida 0.0.10 requires fastapi, which is not installed.\n",
            "lida 0.0.10 requires kaleido, which is not installed.\n",
            "lida 0.0.10 requires python-multipart, which is not installed.\n",
            "lida 0.0.10 requires uvicorn, which is not installed.\n",
            "cupy-cuda11x 11.0.0 requires numpy<1.26,>=1.20, but you have numpy 1.26.2 which is incompatible.\u001b[0m\u001b[31m\n",
            "\u001b[0m"
          ]
        }
      ]
    },
    {
      "cell_type": "code",
      "source": [
        "!git clone -q --single-branch --branch main https://github.com/Fung-Lab/ActiveStructOpt.git\n",
        "%cd -q ActiveStructOpt\n",
        "!pip install --quiet --progress-bar off -r requirements.txt\n",
        "!pip install --quiet --progress-bar off -e ."
      ],
      "metadata": {
        "colab": {
          "base_uri": "https://localhost:8080/"
        },
        "id": "8ATP9eZX18N-",
        "outputId": "26be9bd5-87d3-4dd1-d8cf-451d98df88f6"
      },
      "execution_count": 2,
      "outputs": [
        {
          "output_type": "stream",
          "name": "stdout",
          "text": [
            "  Preparing metadata (setup.py) ... \u001b[?25l\u001b[?25hdone\n",
            "  Building wheel for sentinels (setup.py) ... \u001b[?25l\u001b[?25hdone\n",
            "\u001b[31mERROR: pip's dependency resolver does not currently take into account all the packages that are installed. This behaviour is the source of the following dependency conflicts.\n",
            "lida 0.0.10 requires kaleido, which is not installed.\n",
            "lida 0.0.10 requires python-multipart, which is not installed.\n",
            "llmx 0.0.15a0 requires cohere, which is not installed.\n",
            "llmx 0.0.15a0 requires openai, which is not installed.\n",
            "llmx 0.0.15a0 requires tiktoken, which is not installed.\n",
            "notebook 6.5.5 requires pyzmq<25,>=17, but you have pyzmq 25.1.1 which is incompatible.\n",
            "tensorflow 2.14.0 requires numpy>=1.23.5, but you have numpy 1.23.0 which is incompatible.\n",
            "tensorflow-probability 0.22.0 requires typing-extensions<4.6.0, but you have typing-extensions 4.8.0 which is incompatible.\u001b[0m\u001b[31m\n",
            "\u001b[0m  Preparing metadata (setup.py) ... \u001b[?25l\u001b[?25hdone\n"
          ]
        }
      ]
    },
    {
      "cell_type": "code",
      "source": [
        "import requests\n",
        "from pymatgen.core.structure import Structure\n",
        "from pymatgen.core.composition import Composition\n",
        "import numpy as np\n",
        "import matplotlib.pyplot as plt\n",
        "import periodictable\n",
        "from activestructopt.optimization.shared.constraints import lj_reject\n",
        "\n",
        "MP_BASE_URL = \"https://api.materialsproject.org/\""
      ],
      "metadata": {
        "id": "hRSBE1ntBsGP"
      },
      "execution_count": 3,
      "outputs": []
    },
    {
      "cell_type": "code",
      "source": [
        "headers = {'accept': 'application/json', 'X-API-KEY': 'YOUR_API_KEY_HERE'}\n",
        "structures = []\n",
        "done = False\n",
        "i = 0\n",
        "while not done:\n",
        "  query = {\n",
        "  'theoretical': 'false',\n",
        "  '_skip': i * 1000,\n",
        "  '_limit': 1000,\n",
        "  'nsites_max': 20,\n",
        "  '_fields': 'structure,elements'\n",
        "  }\n",
        "  response = requests.get(MP_BASE_URL + \"materials/summary\",\n",
        "                      params = query, headers = headers)\n",
        "  done = len(response.json()['data']) < 1000\n",
        "  i = i + 1\n",
        "  structures.extend([Structure.from_dict(\n",
        "      d['structure']) for d in response.json()['data']])"
      ],
      "metadata": {
        "id": "fiZvDZ_jXru-"
      },
      "execution_count": 4,
      "outputs": []
    },
    {
      "cell_type": "code",
      "source": [
        "len(structures)"
      ],
      "metadata": {
        "colab": {
          "base_uri": "https://localhost:8080/"
        },
        "id": "2pWNxe9qYeFg",
        "outputId": "40093acf-0742-47d7-e1f7-0ab4f9d40d0f"
      },
      "execution_count": 5,
      "outputs": [
        {
          "output_type": "execute_result",
          "data": {
            "text/plain": [
              "23270"
            ]
          },
          "metadata": {},
          "execution_count": 5
        }
      ]
    },
    {
      "cell_type": "code",
      "source": [
        "rand_indices = np.random.choice(len(structures), 100, replace=False)"
      ],
      "metadata": {
        "id": "IZFoahJg20um"
      },
      "execution_count": 6,
      "outputs": []
    },
    {
      "cell_type": "code",
      "source": [
        "pristine_stuctures = [structures[i] for i in rand_indices]"
      ],
      "metadata": {
        "id": "56T2c6MG3Ebl"
      },
      "execution_count": 7,
      "outputs": []
    },
    {
      "cell_type": "code",
      "source": [
        "perturbed_structures = [pristine_stuctures[i].copy() for i in range(len(pristine_stuctures))]\n",
        "for i in range(len(pristine_stuctures)):\n",
        "  rejected = True\n",
        "  while rejected:\n",
        "    new_structure = pristine_stuctures[i].copy()\n",
        "    new_structure.perturb(0.5)\n",
        "    rejected = lj_reject(new_structure)\n",
        "  perturbed_structures[i] = new_structure.copy()"
      ],
      "metadata": {
        "id": "gjKBJKMN3Sgk"
      },
      "execution_count": 8,
      "outputs": []
    },
    {
      "cell_type": "code",
      "source": [
        "%cd -q /content\n",
        "!mkdir pristine\n",
        "!mkdir perturbed"
      ],
      "metadata": {
        "id": "cChg-UmL35OM"
      },
      "execution_count": 9,
      "outputs": []
    },
    {
      "cell_type": "code",
      "source": [
        "for i in range(len(pristine_stuctures)):\n",
        "  pristine_stuctures[i].to(filename=f\"/content/pristine/{i}.cif\")\n",
        "for i in range(len(perturbed_structures)):\n",
        "  perturbed_structures[i].to(filename=f\"/content/perturbed/{i}.cif\")"
      ],
      "metadata": {
        "id": "gl1Ny2Oh4WX6"
      },
      "execution_count": 10,
      "outputs": []
    },
    {
      "cell_type": "code",
      "source": [
        "!zip -r pristine.zip pristine\n",
        "!zip -r perturbed.zip perturbed"
      ],
      "metadata": {
        "colab": {
          "base_uri": "https://localhost:8080/"
        },
        "id": "JQ4fEcBx4jD1",
        "outputId": "24e1b3fc-a104-49ad-9422-acbd9b1e8cb8"
      },
      "execution_count": 11,
      "outputs": [
        {
          "output_type": "stream",
          "name": "stdout",
          "text": [
            "  adding: pristine/ (stored 0%)\n",
            "  adding: pristine/40.cif (deflated 56%)\n",
            "  adding: pristine/61.cif (deflated 63%)\n",
            "  adding: pristine/36.cif (deflated 54%)\n",
            "  adding: pristine/69.cif (deflated 67%)\n",
            "  adding: pristine/55.cif (deflated 68%)\n",
            "  adding: pristine/26.cif (deflated 67%)\n",
            "  adding: pristine/17.cif (deflated 55%)\n",
            "  adding: pristine/27.cif (deflated 60%)\n",
            "  adding: pristine/85.cif (deflated 62%)\n",
            "  adding: pristine/43.cif (deflated 60%)\n",
            "  adding: pristine/94.cif (deflated 57%)\n",
            "  adding: pristine/76.cif (deflated 56%)\n",
            "  adding: pristine/80.cif (deflated 61%)\n",
            "  adding: pristine/99.cif (deflated 51%)\n",
            "  adding: pristine/21.cif (deflated 51%)\n",
            "  adding: pristine/30.cif (deflated 57%)\n",
            "  adding: pristine/32.cif (deflated 67%)\n",
            "  adding: pristine/88.cif (deflated 62%)\n",
            "  adding: pristine/38.cif (deflated 63%)\n",
            "  adding: pristine/25.cif (deflated 59%)\n",
            "  adding: pristine/96.cif (deflated 55%)\n",
            "  adding: pristine/89.cif (deflated 60%)\n",
            "  adding: pristine/53.cif (deflated 54%)\n",
            "  adding: pristine/87.cif (deflated 66%)\n",
            "  adding: pristine/95.cif (deflated 61%)\n",
            "  adding: pristine/1.cif (deflated 62%)\n",
            "  adding: pristine/7.cif (deflated 65%)\n",
            "  adding: pristine/68.cif (deflated 65%)\n",
            "  adding: pristine/54.cif (deflated 57%)\n",
            "  adding: pristine/74.cif (deflated 63%)\n",
            "  adding: pristine/37.cif (deflated 61%)\n",
            "  adding: pristine/48.cif (deflated 56%)\n",
            "  adding: pristine/58.cif (deflated 60%)\n",
            "  adding: pristine/91.cif (deflated 68%)\n",
            "  adding: pristine/9.cif (deflated 64%)\n",
            "  adding: pristine/15.cif (deflated 56%)\n",
            "  adding: pristine/35.cif (deflated 58%)\n",
            "  adding: pristine/84.cif (deflated 60%)\n",
            "  adding: pristine/50.cif (deflated 58%)\n",
            "  adding: pristine/19.cif (deflated 57%)\n",
            "  adding: pristine/10.cif (deflated 62%)\n",
            "  adding: pristine/45.cif (deflated 55%)\n",
            "  adding: pristine/70.cif (deflated 58%)\n",
            "  adding: pristine/67.cif (deflated 62%)\n",
            "  adding: pristine/0.cif (deflated 55%)\n",
            "  adding: pristine/16.cif (deflated 68%)\n",
            "  adding: pristine/52.cif (deflated 63%)\n",
            "  adding: pristine/23.cif (deflated 64%)\n",
            "  adding: pristine/28.cif (deflated 61%)\n",
            "  adding: pristine/2.cif (deflated 56%)\n",
            "  adding: pristine/98.cif (deflated 54%)\n",
            "  adding: pristine/90.cif (deflated 53%)\n",
            "  adding: pristine/57.cif (deflated 65%)\n",
            "  adding: pristine/22.cif (deflated 59%)\n",
            "  adding: pristine/11.cif (deflated 56%)\n",
            "  adding: pristine/49.cif (deflated 64%)\n",
            "  adding: pristine/79.cif (deflated 59%)\n",
            "  adding: pristine/63.cif (deflated 62%)\n",
            "  adding: pristine/13.cif (deflated 65%)\n",
            "  adding: pristine/8.cif (deflated 62%)\n",
            "  adding: pristine/66.cif (deflated 60%)\n",
            "  adding: pristine/5.cif (deflated 62%)\n",
            "  adding: pristine/82.cif (deflated 58%)\n",
            "  adding: pristine/83.cif (deflated 68%)\n",
            "  adding: pristine/47.cif (deflated 65%)\n",
            "  adding: pristine/41.cif (deflated 64%)\n",
            "  adding: pristine/18.cif (deflated 58%)\n",
            "  adding: pristine/92.cif (deflated 59%)\n",
            "  adding: pristine/56.cif (deflated 53%)\n",
            "  adding: pristine/3.cif (deflated 57%)\n",
            "  adding: pristine/64.cif (deflated 53%)\n",
            "  adding: pristine/81.cif (deflated 60%)\n",
            "  adding: pristine/42.cif (deflated 52%)\n",
            "  adding: pristine/75.cif (deflated 64%)\n",
            "  adding: pristine/97.cif (deflated 67%)\n",
            "  adding: pristine/65.cif (deflated 59%)\n",
            "  adding: pristine/62.cif (deflated 58%)\n",
            "  adding: pristine/20.cif (deflated 59%)\n",
            "  adding: pristine/73.cif (deflated 69%)\n",
            "  adding: pristine/44.cif (deflated 55%)\n",
            "  adding: pristine/46.cif (deflated 61%)\n",
            "  adding: pristine/93.cif (deflated 64%)\n",
            "  adding: pristine/29.cif (deflated 68%)\n",
            "  adding: pristine/31.cif (deflated 63%)\n",
            "  adding: pristine/72.cif (deflated 63%)\n",
            "  adding: pristine/59.cif (deflated 63%)\n",
            "  adding: pristine/39.cif (deflated 62%)\n",
            "  adding: pristine/12.cif (deflated 65%)\n",
            "  adding: pristine/6.cif (deflated 58%)\n",
            "  adding: pristine/78.cif (deflated 61%)\n",
            "  adding: pristine/60.cif (deflated 56%)\n",
            "  adding: pristine/4.cif (deflated 65%)\n",
            "  adding: pristine/14.cif (deflated 54%)\n",
            "  adding: pristine/71.cif (deflated 56%)\n",
            "  adding: pristine/77.cif (deflated 57%)\n",
            "  adding: pristine/33.cif (deflated 63%)\n",
            "  adding: pristine/24.cif (deflated 62%)\n",
            "  adding: pristine/34.cif (deflated 62%)\n",
            "  adding: pristine/86.cif (deflated 68%)\n",
            "  adding: pristine/51.cif (deflated 62%)\n",
            "  adding: perturbed/ (stored 0%)\n",
            "  adding: perturbed/40.cif (deflated 52%)\n",
            "  adding: perturbed/61.cif (deflated 53%)\n",
            "  adding: perturbed/36.cif (deflated 53%)\n",
            "  adding: perturbed/69.cif (deflated 55%)\n",
            "  adding: perturbed/55.cif (deflated 55%)\n",
            "  adding: perturbed/26.cif (deflated 54%)\n",
            "  adding: perturbed/17.cif (deflated 50%)\n",
            "  adding: perturbed/27.cif (deflated 53%)\n",
            "  adding: perturbed/85.cif (deflated 52%)\n",
            "  adding: perturbed/43.cif (deflated 52%)\n",
            "  adding: perturbed/94.cif (deflated 51%)\n",
            "  adding: perturbed/76.cif (deflated 50%)\n",
            "  adding: perturbed/80.cif (deflated 53%)\n",
            "  adding: perturbed/99.cif (deflated 50%)\n",
            "  adding: perturbed/21.cif (deflated 49%)\n",
            "  adding: perturbed/30.cif (deflated 50%)\n",
            "  adding: perturbed/32.cif (deflated 54%)\n",
            "  adding: perturbed/88.cif (deflated 54%)\n",
            "  adding: perturbed/38.cif (deflated 54%)\n",
            "  adding: perturbed/25.cif (deflated 53%)\n",
            "  adding: perturbed/96.cif (deflated 52%)\n",
            "  adding: perturbed/89.cif (deflated 52%)\n",
            "  adding: perturbed/53.cif (deflated 51%)\n",
            "  adding: perturbed/87.cif (deflated 55%)\n",
            "  adding: perturbed/95.cif (deflated 53%)\n",
            "  adding: perturbed/1.cif (deflated 53%)\n",
            "  adding: perturbed/7.cif (deflated 55%)\n",
            "  adding: perturbed/68.cif (deflated 54%)\n",
            "  adding: perturbed/54.cif (deflated 51%)\n",
            "  adding: perturbed/74.cif (deflated 52%)\n",
            "  adding: perturbed/37.cif (deflated 53%)\n",
            "  adding: perturbed/48.cif (deflated 53%)\n",
            "  adding: perturbed/58.cif (deflated 51%)\n",
            "  adding: perturbed/91.cif (deflated 55%)\n",
            "  adding: perturbed/9.cif (deflated 55%)\n",
            "  adding: perturbed/15.cif (deflated 52%)\n",
            "  adding: perturbed/35.cif (deflated 55%)\n",
            "  adding: perturbed/84.cif (deflated 53%)\n",
            "  adding: perturbed/50.cif (deflated 51%)\n",
            "  adding: perturbed/19.cif (deflated 52%)\n",
            "  adding: perturbed/10.cif (deflated 55%)\n",
            "  adding: perturbed/45.cif (deflated 50%)\n",
            "  adding: perturbed/70.cif (deflated 52%)\n",
            "  adding: perturbed/67.cif (deflated 55%)\n",
            "  adding: perturbed/0.cif (deflated 51%)\n",
            "  adding: perturbed/16.cif (deflated 56%)\n",
            "  adding: perturbed/52.cif (deflated 53%)\n",
            "  adding: perturbed/23.cif (deflated 55%)\n",
            "  adding: perturbed/28.cif (deflated 54%)\n",
            "  adding: perturbed/2.cif (deflated 51%)\n",
            "  adding: perturbed/98.cif (deflated 50%)\n",
            "  adding: perturbed/90.cif (deflated 49%)\n",
            "  adding: perturbed/57.cif (deflated 55%)\n",
            "  adding: perturbed/22.cif (deflated 53%)\n",
            "  adding: perturbed/11.cif (deflated 51%)\n",
            "  adding: perturbed/49.cif (deflated 53%)\n",
            "  adding: perturbed/79.cif (deflated 54%)\n",
            "  adding: perturbed/63.cif (deflated 53%)\n",
            "  adding: perturbed/13.cif (deflated 55%)\n",
            "  adding: perturbed/8.cif (deflated 53%)\n",
            "  adding: perturbed/66.cif (deflated 53%)\n",
            "  adding: perturbed/5.cif (deflated 53%)\n",
            "  adding: perturbed/82.cif (deflated 51%)\n",
            "  adding: perturbed/83.cif (deflated 55%)\n",
            "  adding: perturbed/47.cif (deflated 54%)\n",
            "  adding: perturbed/41.cif (deflated 54%)\n",
            "  adding: perturbed/18.cif (deflated 51%)\n",
            "  adding: perturbed/92.cif (deflated 51%)\n",
            "  adding: perturbed/56.cif (deflated 50%)\n",
            "  adding: perturbed/3.cif (deflated 51%)\n",
            "  adding: perturbed/64.cif (deflated 53%)\n",
            "  adding: perturbed/81.cif (deflated 53%)\n",
            "  adding: perturbed/42.cif (deflated 52%)\n",
            "  adding: perturbed/75.cif (deflated 55%)\n",
            "  adding: perturbed/97.cif (deflated 55%)\n",
            "  adding: perturbed/65.cif (deflated 53%)\n",
            "  adding: perturbed/62.cif (deflated 52%)\n",
            "  adding: perturbed/20.cif (deflated 53%)\n",
            "  adding: perturbed/73.cif (deflated 55%)\n",
            "  adding: perturbed/44.cif (deflated 50%)\n",
            "  adding: perturbed/46.cif (deflated 53%)\n",
            "  adding: perturbed/93.cif (deflated 55%)\n",
            "  adding: perturbed/29.cif (deflated 55%)\n",
            "  adding: perturbed/31.cif (deflated 53%)\n",
            "  adding: perturbed/72.cif (deflated 54%)\n",
            "  adding: perturbed/59.cif (deflated 53%)\n",
            "  adding: perturbed/39.cif (deflated 52%)\n",
            "  adding: perturbed/12.cif (deflated 55%)\n",
            "  adding: perturbed/6.cif (deflated 52%)\n",
            "  adding: perturbed/78.cif (deflated 53%)\n",
            "  adding: perturbed/60.cif (deflated 52%)\n",
            "  adding: perturbed/4.cif (deflated 55%)\n",
            "  adding: perturbed/14.cif (deflated 51%)\n",
            "  adding: perturbed/71.cif (deflated 51%)\n",
            "  adding: perturbed/77.cif (deflated 50%)\n",
            "  adding: perturbed/33.cif (deflated 53%)\n",
            "  adding: perturbed/24.cif (deflated 55%)\n",
            "  adding: perturbed/34.cif (deflated 54%)\n",
            "  adding: perturbed/86.cif (deflated 55%)\n",
            "  adding: perturbed/51.cif (deflated 53%)\n"
          ]
        }
      ]
    }
  ]
}